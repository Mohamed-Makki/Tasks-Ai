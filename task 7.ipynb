{
 "cells": [
  {
   "cell_type": "code",
   "execution_count": 11,
   "id": "3debeecb",
   "metadata": {
    "ExecuteTime": {
     "end_time": "2022-08-27T04:53:54.669529Z",
     "start_time": "2022-08-27T04:53:54.662530Z"
    }
   },
   "outputs": [
    {
     "ename": "SyntaxError",
     "evalue": "invalid syntax (3710805744.py, line 9)",
     "output_type": "error",
     "traceback": [
      "\u001b[1;36m  Input \u001b[1;32mIn [11]\u001b[1;36m\u001b[0m\n\u001b[1;33m    while(true){\u001b[0m\n\u001b[1;37m    ^\u001b[0m\n\u001b[1;31mSyntaxError\u001b[0m\u001b[1;31m:\u001b[0m invalid syntax\n"
     ]
    }
   ],
   "source": [
    "#ternary search#\n",
    "#Ternary search,like binary search, is a divide-and-conquer algorithm.\n",
    "#It is mandatory for the array (in which you will search for an element) to be sorted before you begin the search.\n",
    "#In this search, after each iteration it neglects ⅓\n",
    "#part of the array and repeats the same operations on the remaining ⅔.\n",
    "\n",
    "def ternarySearch(givenList, l, r, absolutePrecision):{\n",
    "\n",
    "   while(true){\n",
    "      if (Math.abs(r - l) < absolutePrecision) {\n",
    "      return (l + r) / 2;\n",
    "      }\n",
    "    var leftThird = l + (r - l) / 3;\n",
    "    var rightThird = r - (r - l) / 3;\n",
    "    if (givenList[leftThird] < givenList[rightThird]) {\n",
    "      l = leftThird;\n",
    "    } else {\n",
    "      r = rightThird;\n",
    "    }\n",
    "  }\n",
    "}"
   ]
  },
  {
   "cell_type": "code",
   "execution_count": 6,
   "id": "4d82c837",
   "metadata": {
    "ExecuteTime": {
     "end_time": "2022-08-27T04:48:07.889938Z",
     "start_time": "2022-08-27T04:48:07.883937Z"
    }
   },
   "outputs": [
    {
     "name": "stdout",
     "output_type": "stream",
     "text": [
      "55\n"
     ]
    }
   ],
   "source": [
    "# this is bad code:\n",
    "n = 10\n",
    "sum_all = 0\n",
    "\n",
    "for i in range(1, n + 1):\n",
    "    sum_all = sum_all + i\n",
    "\n",
    "print(sum_all) "
   ]
  },
  {
   "cell_type": "code",
   "execution_count": 7,
   "id": "5618ac6c",
   "metadata": {
    "ExecuteTime": {
     "end_time": "2022-08-27T04:51:01.481438Z",
     "start_time": "2022-08-27T04:51:01.465835Z"
    }
   },
   "outputs": [
    {
     "name": "stdout",
     "output_type": "stream",
     "text": [
      "55\n"
     ]
    }
   ],
   "source": [
    "# this is best code:\n",
    "n = 10\n",
    "sum_all = sum(range(1, n + 1))\n",
    "\n",
    "print(sum_all)"
   ]
  },
  {
   "cell_type": "code",
   "execution_count": 2,
   "id": "ca6976fe",
   "metadata": {
    "ExecuteTime": {
     "end_time": "2022-08-27T21:33:02.406627Z",
     "start_time": "2022-08-27T21:33:02.390568Z"
    }
   },
   "outputs": [],
   "source": [
    "#most common design pattern#\n",
    "\n",
    "#1. Singleton Design Pattern\n",
    "#2. Factory Method Design Pattern\n",
    "#3. Facade Design Pattern\n",
    "#4. Strategy Design Pattern\n",
    "#5. Observer Design Pattern\n",
    "#6. Builder Design Pattern\n",
    "#7. Adapter Design Pattern"
   ]
  },
  {
   "cell_type": "code",
   "execution_count": 3,
   "id": "76390a7b",
   "metadata": {
    "ExecuteTime": {
     "end_time": "2022-08-27T23:12:06.462465Z",
     "start_time": "2022-08-27T23:12:06.453351Z"
    }
   },
   "outputs": [],
   "source": [
    "#KEY DIFFERENCE Agile vs DevOps #\n",
    "#DevOps is a practice of bringing development and operations teams together whereas Agile is an iterative\n",
    "#                    approach that focuses on collaboration, customer feedback and small rapid releases.#\n",
    "#DevOps focuses on constant testing and delivery while the Agile process focuses on constant changes.\n",
    "#DevOps requires relatively a large team while Agile requires a small team.\n",
    "#DevOps leverages both shifts left and right principles, on the other hand, Agile leverage shift-left principle.\n",
    "#The target area of Agile is Software development whereas the Target area of DevOps is to give end-to-end business\n",
    "#                                                                                      solutions and fast delivery.\n",
    "#DevOps focuses more on operational and business readiness whereas Agile focuses on functional and non-function readiness."
   ]
  },
  {
   "cell_type": "code",
   "execution_count": null,
   "id": "c16eb2f5",
   "metadata": {},
   "outputs": [],
   "source": [
    "Plan\n",
    "#The plan phase is the least automated phase of DevSecOps, involving collaboration, discussion, review,\n",
    "#and strategy of security analysis. Teams should perform a security analysis and create a plan that outlines where,\n",
    "#how, and when security testing will be done. A popular planning tool for DevSecOps is IriusRisk,\n",
    "#a collaborative design tool for threat modeling.\n",
    "#Additional tools include issue tracking and management tools like Jira Software and communication and chat tools like Slack.\n",
    "Code\n",
    "#DevSecOps tools for the code phase help developers write more secure code.\n",
    "#Important code-phase security practices include static code analysis, code reviews, and pre-commit hooks.\n",
    "Build\n",
    "#The build phase begins once developers commit code to the source repository.\n",
    "#DevSecOps build tools focus on automated security analysis against the build output artifact.\n",
    "#Important security practices include software component analysis, static application software testing (SAST),\n",
    "#and unit tests. Tools can be plugged into an existing CI/CD pipeline to automate these tests.\n",
    "Test\n",
    "#The test phase is triggered after a build artifact is created and successfully deployed to staging or testing environments.\n",
    "#A comprehensive test suite takes a considerable amount of time to execute.\n",
    "#This phase should fail fast so that the more expensive test tasks are left for the end.\n",
    "Release\n",
    "#By the release phase of the DevSecOps cycle, the application code and executable should already be thoroughly tested.\n",
    "#The phase focuses on securing the runtime environment infrastructure by examining environment configuration values such\n",
    "#as user access control, network firewall access, and secret data management. \n",
    "Deploy\n",
    "#If the previous phases pass successfully,it's time to deploy the build artifact to production. \n",
    "#The security areas of concern to address during the deploy phase are those that only happen against the live production system.\n",
    "#For example, any differences in configuration between the production environment\n",
    "#and the previous staging and development environments should be thoroughly reviewed. "
   ]
  }
 ],
 "metadata": {
  "kernelspec": {
   "display_name": "Python 3 (ipykernel)",
   "language": "python",
   "name": "python3"
  },
  "language_info": {
   "codemirror_mode": {
    "name": "ipython",
    "version": 3
   },
   "file_extension": ".py",
   "mimetype": "text/x-python",
   "name": "python",
   "nbconvert_exporter": "python",
   "pygments_lexer": "ipython3",
   "version": "3.9.12"
  },
  "toc": {
   "base_numbering": 1,
   "nav_menu": {},
   "number_sections": true,
   "sideBar": true,
   "skip_h1_title": false,
   "title_cell": "Table of Contents",
   "title_sidebar": "Contents",
   "toc_cell": false,
   "toc_position": {},
   "toc_section_display": true,
   "toc_window_display": false
  },
  "varInspector": {
   "cols": {
    "lenName": 16,
    "lenType": 16,
    "lenVar": 40
   },
   "kernels_config": {
    "python": {
     "delete_cmd_postfix": "",
     "delete_cmd_prefix": "del ",
     "library": "var_list.py",
     "varRefreshCmd": "print(var_dic_list())"
    },
    "r": {
     "delete_cmd_postfix": ") ",
     "delete_cmd_prefix": "rm(",
     "library": "var_list.r",
     "varRefreshCmd": "cat(var_dic_list()) "
    }
   },
   "types_to_exclude": [
    "module",
    "function",
    "builtin_function_or_method",
    "instance",
    "_Feature"
   ],
   "window_display": false
  }
 },
 "nbformat": 4,
 "nbformat_minor": 5
}
