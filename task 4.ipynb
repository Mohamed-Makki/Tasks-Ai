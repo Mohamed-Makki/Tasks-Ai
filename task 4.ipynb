{
 "cells": [
  {
   "cell_type": "code",
   "execution_count": 20,
   "id": "814e9a18",
   "metadata": {
    "ExecuteTime": {
     "end_time": "2022-08-14T01:55:40.680254Z",
     "start_time": "2022-08-14T01:55:40.659919Z"
    }
   },
   "outputs": [
    {
     "name": "stdout",
     "output_type": "stream",
     "text": [
      "['country', 'lastname', 'name']\n",
      "['egypt', 'makki', 'mohamed']\n"
     ]
    }
   ],
   "source": [
    "# 1 #\n",
    "items={\"name\":\"mohamed\",\"lastname\":\"makki\",\"country\":\"egypt\"}\n",
    "print(sorted(items.keys()))\n",
    "print(sorted(items.values()))"
   ]
  },
  {
   "cell_type": "code",
   "execution_count": null,
   "id": "274c8aee",
   "metadata": {
    "ExecuteTime": {
     "end_time": "2022-08-14T01:38:55.979372Z",
     "start_time": "2022-08-14T01:38:55.965368Z"
    }
   },
   "outputs": [],
   "source": [
    "# 2 #\n",
    "Adjacency Matrix:\n",
    "#Uses O(n^2) memory\n",
    "#It is fast to lookup and check for presence or absence of a specific edge\n",
    "#between any two nodes O(1)\n",
    "#It is slow to iterate over all edges\n",
    "#It is slow to add/delete a node; a complex operation O(n^2)\n",
    "#It is fast to add a new edge O(1)\n",
    "\n",
    "Adjacency List:\n",
    "#Memory usage depends more on the number of edges (and less on the number of nodes),\n",
    "#which might save a lot of memory if the adjacency matrix is sparse\n",
    "#Finding the presence or absence of specific edge between any two nodes\n",
    "#is slightly slower than with the matrix O(k); where k is the number of neighbors nodes\n",
    "#It is fast to iterate over all edges because you can access any node neighbors directly\n",
    "#It is fast to add/delete a node; easier than the matrix representation\n",
    "#It fast to add a new edge O(1)\n"
   ]
  },
  {
   "cell_type": "code",
   "execution_count": 21,
   "id": "ab30b303",
   "metadata": {
    "ExecuteTime": {
     "end_time": "2022-08-14T05:54:05.068908Z",
     "start_time": "2022-08-14T05:54:05.022281Z"
    }
   },
   "outputs": [
    {
     "ename": "NameError",
     "evalue": "name 'BFS' is not defined",
     "output_type": "error",
     "traceback": [
      "\u001b[1;31m---------------------------------------------------------------------------\u001b[0m",
      "\u001b[1;31mNameError\u001b[0m                                 Traceback (most recent call last)",
      "Input \u001b[1;32mIn [21]\u001b[0m, in \u001b[0;36m<cell line: 2>\u001b[1;34m()\u001b[0m\n\u001b[0;32m      1\u001b[0m \u001b[38;5;66;03m# 3 #\u001b[39;00m\n\u001b[1;32m----> 2\u001b[0m \u001b[43mBFS\u001b[49m\n\u001b[0;32m      3\u001b[0m \u001b[38;5;66;03m#Definition:BFS, stands for Breadth First Search.\u001b[39;00m\n\u001b[0;32m      4\u001b[0m \u001b[38;5;66;03m#Data structure:BFS uses Queue to find the shortest path.\u001b[39;00m\n\u001b[0;32m      5\u001b[0m \u001b[38;5;66;03m#Source:BFS is better when target is closer to Source.\u001b[39;00m\n\u001b[0;32m      6\u001b[0m \u001b[38;5;66;03m#Suitablity for decision tree:As BFS considers all neighbour so it is not suitable for decision tree used in puzzle games.\u001b[39;00m\n\u001b[0;32m      7\u001b[0m \u001b[38;5;66;03m#Speed:BFS is slower than DFS.\u001b[39;00m\n\u001b[0;32m      9\u001b[0m DFS\n",
      "\u001b[1;31mNameError\u001b[0m: name 'BFS' is not defined"
     ]
    }
   ],
   "source": [
    "# 3 #\n",
    "BFS\n",
    "#Definition:BFS, stands for Breadth First Search.\n",
    "#Data structure:BFS uses Queue to find the shortest path.\n",
    "#Source:BFS is better when target is closer to Source.\n",
    "#Suitablity for decision tree:As BFS considers all neighbour so it is not suitable for decision tree used in puzzle games.\n",
    "#Speed:BFS is slower than DFS.\n",
    "\n",
    "DFS\n",
    "#Definition:DFS, stands for Depth First Search.\n",
    "#Data structure:DFS uses Stack to find the shortest path.\n",
    "#Source:DFS is better when target is far from source.\n",
    "#Suitablity for decision tree:DFS is more suitable for decision tree. As with one decision, we need to traverse further to augment the decision. If we reach the conclusion, we won.\n",
    "#Speed:DFS is faster than BFS."
   ]
  },
  {
   "cell_type": "code",
   "execution_count": 22,
   "id": "e8f98f72",
   "metadata": {
    "ExecuteTime": {
     "end_time": "2022-08-14T05:55:48.056610Z",
     "start_time": "2022-08-14T05:55:48.023017Z"
    }
   },
   "outputs": [],
   "source": [
    "# 4 #\n",
    "import mylib"
   ]
  },
  {
   "cell_type": "code",
   "execution_count": 24,
   "id": "57a6fc85",
   "metadata": {
    "ExecuteTime": {
     "end_time": "2022-08-14T05:56:19.019294Z",
     "start_time": "2022-08-14T05:56:19.009294Z"
    }
   },
   "outputs": [
    {
     "name": "stdout",
     "output_type": "stream",
     "text": [
      "your name:mohamed\n",
      "your months:252\n",
      "your weeks:1008\n",
      "your days:7056\n"
     ]
    }
   ],
   "source": [
    "mylib.fun(\"mohamed\",21)"
   ]
  },
  {
   "cell_type": "code",
   "execution_count": null,
   "id": "99e88b8a",
   "metadata": {
    "ExecuteTime": {
     "start_time": "2022-08-14T07:18:29.569Z"
    }
   },
   "outputs": [
    {
     "name": "stdout",
     "output_type": "stream",
     "text": [
      "5\n",
      "please enter: 3\n",
      "please enter: 5\n",
      "please enter: 7\n",
      "please enter: 1\n",
      "please enter: 24\n",
      "please enter: 57\n"
     ]
    }
   ],
   "source": [
    "# 5 #\n",
    "from queue import Queue as stack\n",
    "s=stack()\n",
    "x=input()\n",
    "\n",
    "while x!=0:\n",
    "    if x==0:\n",
    "        break\n",
    "    else: \n",
    "        s.put(x)\n",
    "        x=input(\"please enter: \")"
   ]
  },
  {
   "cell_type": "code",
   "execution_count": 15,
   "id": "e340b7c1",
   "metadata": {
    "ExecuteTime": {
     "end_time": "2022-08-14T08:16:50.632291Z",
     "start_time": "2022-08-14T08:16:50.626289Z"
    }
   },
   "outputs": [
    {
     "ename": "SyntaxError",
     "evalue": "invalid syntax (2672075826.py, line 1)",
     "output_type": "error",
     "traceback": [
      "\u001b[1;36m  Input \u001b[1;32mIn [15]\u001b[1;36m\u001b[0m\n\u001b[1;33m    pip install ordered-set\u001b[0m\n\u001b[1;37m        ^\u001b[0m\n\u001b[1;31mSyntaxError\u001b[0m\u001b[1;31m:\u001b[0m invalid syntax\n"
     ]
    }
   ],
   "source": [
    "pip install ordered-set\n",
    "from ordered_set import OrderedSet as seet\n",
    "s=seet({1,2,3,4,5,6,7,8,9,10})\n",
    "s\n",
    "\n"
   ]
  },
  {
   "cell_type": "code",
   "execution_count": 1,
   "id": "6fcf6a97",
   "metadata": {
    "ExecuteTime": {
     "end_time": "2022-08-14T07:55:32.333289Z",
     "start_time": "2022-08-14T07:55:32.026291Z"
    }
   },
   "outputs": [
    {
     "ename": "NameError",
     "evalue": "name 's' is not defined",
     "output_type": "error",
     "traceback": [
      "\u001b[1;31m---------------------------------------------------------------------------\u001b[0m",
      "\u001b[1;31mNameError\u001b[0m                                 Traceback (most recent call last)",
      "Input \u001b[1;32mIn [1]\u001b[0m, in \u001b[0;36m<cell line: 1>\u001b[1;34m()\u001b[0m\n\u001b[1;32m----> 1\u001b[0m \u001b[38;5;28mprint\u001b[39m(\u001b[43ms\u001b[49m)\n",
      "\u001b[1;31mNameError\u001b[0m: name 's' is not defined"
     ]
    }
   ],
   "source": []
  },
  {
   "cell_type": "code",
   "execution_count": null,
   "id": "ae9575fe",
   "metadata": {},
   "outputs": [],
   "source": []
  },
  {
   "cell_type": "code",
   "execution_count": null,
   "id": "c8cbbe8f",
   "metadata": {},
   "outputs": [],
   "source": []
  }
 ],
 "metadata": {
  "kernelspec": {
   "display_name": "Python 3 (ipykernel)",
   "language": "python",
   "name": "python3"
  },
  "language_info": {
   "codemirror_mode": {
    "name": "ipython",
    "version": 3
   },
   "file_extension": ".py",
   "mimetype": "text/x-python",
   "name": "python",
   "nbconvert_exporter": "python",
   "pygments_lexer": "ipython3",
   "version": "3.9.12"
  },
  "toc": {
   "base_numbering": 1,
   "nav_menu": {},
   "number_sections": true,
   "sideBar": true,
   "skip_h1_title": false,
   "title_cell": "Table of Contents",
   "title_sidebar": "Contents",
   "toc_cell": false,
   "toc_position": {},
   "toc_section_display": true,
   "toc_window_display": false
  },
  "varInspector": {
   "cols": {
    "lenName": 16,
    "lenType": 16,
    "lenVar": 40
   },
   "kernels_config": {
    "python": {
     "delete_cmd_postfix": "",
     "delete_cmd_prefix": "del ",
     "library": "var_list.py",
     "varRefreshCmd": "print(var_dic_list())"
    },
    "r": {
     "delete_cmd_postfix": ") ",
     "delete_cmd_prefix": "rm(",
     "library": "var_list.r",
     "varRefreshCmd": "cat(var_dic_list()) "
    }
   },
   "types_to_exclude": [
    "module",
    "function",
    "builtin_function_or_method",
    "instance",
    "_Feature"
   ],
   "window_display": false
  }
 },
 "nbformat": 4,
 "nbformat_minor": 5
}
