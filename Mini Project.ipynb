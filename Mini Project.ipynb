{
 "cells": [
  {
   "cell_type": "code",
   "execution_count": 1,
   "id": "3e733e70",
   "metadata": {
    "ExecuteTime": {
     "end_time": "2022-08-30T07:48:57.269246Z",
     "start_time": "2022-08-30T07:48:57.254311Z"
    }
   },
   "outputs": [],
   "source": [
    "class Onlinelibrary:\n",
    "    def __init__(self):\n",
    "        self.displaybook=dict()\n",
    "        self.havebook=dict()\n",
    "        while True:\n",
    "            \n",
    "            self.request=input(\"\"\"\\nHow can I help you?\\n\n",
    "1)To display the available books.\n",
    "2)To lend a book to a user.\n",
    "3)To add a book to the library.\n",
    "4)To return the book to the library.\n",
    "5)If you want to view the names of people who own a book.\\nEnter Number -->: \"\"\")\n",
    "            \n",
    "            def Displaybooks(self):\n",
    "                for i in self.displaybook:\n",
    "                    print(i)\n",
    "                    \n",
    "            def Lendbook(self,namebook):\n",
    "                del self.displaybook[namebook]\n",
    "                \n",
    "            def Addbook(self,namebook,nameauther):\n",
    "                self.displaybook[namebook]=nameauther\n",
    "        \n",
    "            def Returnbook(self,namebook,nameauther):\n",
    "                self.displaybook[namebook]=nameauther\n",
    "                del self.havebook[namebook]\n",
    "        \n",
    "            def Havebook(self,namebook,yourname):\n",
    "                self.havebook[namebook]=yourname\n",
    "                \n",
    "            if self.request==\"1\":\n",
    "                print(Displaybooks(self))\n",
    "                \n",
    "            elif self.request==\"2\":\n",
    "                x=input(\"--> please enter name book: \")\n",
    "                y=input(\"--> please enter name auther: \")\n",
    "                q=input(\"--> please enter your name: \")\n",
    "                k=False\n",
    "                for i in self.displaybook.keys():\n",
    "                    if i!=x:\n",
    "                        continue\n",
    "                    else:\n",
    "                        k=True\n",
    "                if k==True:\n",
    "                    print(\"--> this is book Found\\n\\n\")\n",
    "                    Lendbook(self,x)\n",
    "                    Havebook(self,x,q)\n",
    "                else:\n",
    "                    print(\"--> this is book NOt Found\\n\\n\")\n",
    "                    \n",
    "            elif self.request==\"3\":\n",
    "                w=input(\"--> please enter name book: \")\n",
    "                z=input(\"--> please enter name auther: \")\n",
    "                Addbook(self,w,z)\n",
    "                \n",
    "            elif self.request==\"4\":\n",
    "                m=input(\"--> please enter name book: \")\n",
    "                n=input(\"--> please enter name auther: \")\n",
    "                h=input(\"--> please enter your name: \")\n",
    "                Returnbook(self,m,n)\n",
    "                \n",
    "            else:\n",
    "                for i,j in self.havebook.items():\n",
    "                    print(f\"--> This person: {j} owns this book: {i}\")"
   ]
  },
  {
   "cell_type": "code",
   "execution_count": null,
   "id": "d7fe8c79",
   "metadata": {
    "ExecuteTime": {
     "start_time": "2022-08-30T07:48:57.087Z"
    }
   },
   "outputs": [],
   "source": [
    "a=Onlinelibrary()"
   ]
  },
  {
   "cell_type": "code",
   "execution_count": null,
   "id": "3b55d112",
   "metadata": {
    "ExecuteTime": {
     "end_time": "2022-08-29T21:24:54.736854Z",
     "start_time": "2022-08-29T21:24:54.722846Z"
    }
   },
   "outputs": [],
   "source": []
  },
  {
   "cell_type": "code",
   "execution_count": null,
   "id": "f7142e64",
   "metadata": {},
   "outputs": [],
   "source": []
  }
 ],
 "metadata": {
  "kernelspec": {
   "display_name": "Python 3 (ipykernel)",
   "language": "python",
   "name": "python3"
  },
  "language_info": {
   "codemirror_mode": {
    "name": "ipython",
    "version": 3
   },
   "file_extension": ".py",
   "mimetype": "text/x-python",
   "name": "python",
   "nbconvert_exporter": "python",
   "pygments_lexer": "ipython3",
   "version": "3.9.12"
  },
  "toc": {
   "base_numbering": 1,
   "nav_menu": {},
   "number_sections": true,
   "sideBar": true,
   "skip_h1_title": false,
   "title_cell": "Table of Contents",
   "title_sidebar": "Contents",
   "toc_cell": false,
   "toc_position": {},
   "toc_section_display": true,
   "toc_window_display": false
  },
  "varInspector": {
   "cols": {
    "lenName": 16,
    "lenType": 16,
    "lenVar": 40
   },
   "kernels_config": {
    "python": {
     "delete_cmd_postfix": "",
     "delete_cmd_prefix": "del ",
     "library": "var_list.py",
     "varRefreshCmd": "print(var_dic_list())"
    },
    "r": {
     "delete_cmd_postfix": ") ",
     "delete_cmd_prefix": "rm(",
     "library": "var_list.r",
     "varRefreshCmd": "cat(var_dic_list()) "
    }
   },
   "types_to_exclude": [
    "module",
    "function",
    "builtin_function_or_method",
    "instance",
    "_Feature"
   ],
   "window_display": false
  }
 },
 "nbformat": 4,
 "nbformat_minor": 5
}
