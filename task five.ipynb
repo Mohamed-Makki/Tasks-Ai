{
 "cells": [
  {
   "cell_type": "code",
   "execution_count": 9,
   "id": "a50bcad8",
   "metadata": {
    "ExecuteTime": {
     "end_time": "2022-08-17T13:58:49.172914Z",
     "start_time": "2022-08-17T13:58:49.162914Z"
    }
   },
   "outputs": [],
   "source": [
    "class player:\n",
    "    def __init__(self):\n",
    "        print(\"welcome new player\")\n",
    "        self.name=input(\"please enter your name: \")\n",
    "        self.age=int(input(\"please enter your age: \"))\n",
    "        self.nation=input(\"please enter your nation: \")\n",
    "        self.num=int(input(\"please enter your number: \"))\n",
    "        self.center=input(\"please enter your center: \")\n",
    "        self.rating=int(input(\"please enter your rating: \"))\n",
    "        \n",
    "    def fun(self):\n",
    "        if self.age <= 23:\n",
    "            money=50\n",
    "        elif self. age >=24 and self.age <=27:\n",
    "               money=35\n",
    "        else:\n",
    "            money=25\n",
    "        if self.center == \"st\" or self.center ==\"lw\" or self.center ==\"rw\":\n",
    "            flos=50\n",
    "        elif self.center ==\"cam\" or self.center ==\"cm\"or self.center ==\"cdm\":\n",
    "            flos=35\n",
    "        elif self.center ==\"lb\"or self.center ==\"cd\"or self.center ==\"rb\":\n",
    "            flos=25\n",
    "        else:\n",
    "            flos=20\n",
    "        return print(\"this is value new player: \",money+flos)\n",
    "    \n",
    "    def __del__(self):\n",
    "        print(\"object is deleted !\")"
   ]
  },
  {
   "cell_type": "code",
   "execution_count": 10,
   "id": "484af1f1",
   "metadata": {
    "ExecuteTime": {
     "end_time": "2022-08-17T13:59:12.590360Z",
     "start_time": "2022-08-17T13:58:51.563448Z"
    }
   },
   "outputs": [
    {
     "name": "stdout",
     "output_type": "stream",
     "text": [
      "welcome new player\n",
      "please enter your name: mohamed\n",
      "please enter your age: 21\n",
      "please enter your nation: egypt\n",
      "please enter your number: 651\n",
      "please enter your center: st\n",
      "please enter your rating: 85\n"
     ]
    }
   ],
   "source": [
    "a=player()"
   ]
  },
  {
   "cell_type": "code",
   "execution_count": 11,
   "id": "8cb98ec2",
   "metadata": {
    "ExecuteTime": {
     "end_time": "2022-08-17T13:59:47.700491Z",
     "start_time": "2022-08-17T13:59:47.682025Z"
    }
   },
   "outputs": [
    {
     "name": "stdout",
     "output_type": "stream",
     "text": [
      "this is value new player:  100\n"
     ]
    }
   ],
   "source": [
    "a.fun()"
   ]
  },
  {
   "cell_type": "code",
   "execution_count": null,
   "id": "fe0cadd4",
   "metadata": {
    "ExecuteTime": {
     "start_time": "2022-08-17T13:50:28.512Z"
    }
   },
   "outputs": [],
   "source": []
  },
  {
   "cell_type": "code",
   "execution_count": null,
   "id": "2ff9319e",
   "metadata": {},
   "outputs": [],
   "source": []
  }
 ],
 "metadata": {
  "kernelspec": {
   "display_name": "Python 3 (ipykernel)",
   "language": "python",
   "name": "python3"
  },
  "language_info": {
   "codemirror_mode": {
    "name": "ipython",
    "version": 3
   },
   "file_extension": ".py",
   "mimetype": "text/x-python",
   "name": "python",
   "nbconvert_exporter": "python",
   "pygments_lexer": "ipython3",
   "version": "3.9.12"
  },
  "toc": {
   "base_numbering": 1,
   "nav_menu": {},
   "number_sections": true,
   "sideBar": true,
   "skip_h1_title": false,
   "title_cell": "Table of Contents",
   "title_sidebar": "Contents",
   "toc_cell": false,
   "toc_position": {},
   "toc_section_display": true,
   "toc_window_display": false
  },
  "varInspector": {
   "cols": {
    "lenName": 16,
    "lenType": 16,
    "lenVar": 40
   },
   "kernels_config": {
    "python": {
     "delete_cmd_postfix": "",
     "delete_cmd_prefix": "del ",
     "library": "var_list.py",
     "varRefreshCmd": "print(var_dic_list())"
    },
    "r": {
     "delete_cmd_postfix": ") ",
     "delete_cmd_prefix": "rm(",
     "library": "var_list.r",
     "varRefreshCmd": "cat(var_dic_list()) "
    }
   },
   "types_to_exclude": [
    "module",
    "function",
    "builtin_function_or_method",
    "instance",
    "_Feature"
   ],
   "window_display": false
  }
 },
 "nbformat": 4,
 "nbformat_minor": 5
}
