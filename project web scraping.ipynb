{
 "cells": [
  {
   "cell_type": "code",
   "execution_count": 1,
   "id": "71128b44",
   "metadata": {
    "ExecuteTime": {
     "end_time": "2022-09-14T03:28:57.154419Z",
     "start_time": "2022-09-14T03:28:55.113701Z"
    }
   },
   "outputs": [],
   "source": [
    "import re\n",
    "import requests\n",
    "from bs4 import BeautifulSoup\n",
    "import csv\n",
    "import openpyxl\n",
    "url='https://www.imdb.com/chart/top'\n",
    "page=requests.get(url).text\n",
    "soup=BeautifulSoup(page,'lxml')\n",
    "alltr=soup.tbody.find_all('tr')\n",
    "#nametd=alltr.find_all('td',class_=\"titleColumn\")\n",
    "#for i in nametd:\n",
    "excle=openpyxl.Workbook()\n",
    "sheet=excle.active\n",
    "sheet.title=\"IMDB MOVIES\"\n",
    "sheet.append([\"number\",\"name\",\"year\",\"rating\"])\n",
    "filecsv=open(\"Movies.csv\",'w',encoding='utf-8')\n",
    "file=csv.writer(filecsv)\n",
    "file.writerow([\"Number\",\"Movie name\",\"Year\",\"Rating\"])\n",
    "for i in alltr:\n",
    "    name=i.td.a.img.attrs['alt']\n",
    "    year=i.find('td',class_=\"titleColumn\").span.text.strip(\"()\")\n",
    "    ff=i.find('td',class_=\"titleColumn\").text\n",
    "    num=re.findall(\"[0-9]+\\.\",ff)\n",
    "    number=num[0].strip(\".\")\n",
    "    rating=i.find('td',class_='ratingColumn imdbRating').text\n",
    "    sheet.append([number,name,year,rating])\n",
    "    file.writerow([number,name,year,rating])\n",
    "filecsv.close()\n",
    "excle.save(\"Best Movies\")\n",
    "     #print(year)\n",
    "    #print(rating)\n",
    "    #print(name)\n",
    "    #print(number[0])"
   ]
  },
  {
   "cell_type": "code",
   "execution_count": null,
   "id": "ae0e5b12",
   "metadata": {
    "ExecuteTime": {
     "end_time": "2022-09-13T08:34:37.269064Z",
     "start_time": "2022-09-13T08:34:37.257673Z"
    }
   },
   "outputs": [],
   "source": []
  },
  {
   "cell_type": "code",
   "execution_count": null,
   "id": "f672ee8a",
   "metadata": {
    "ExecuteTime": {
     "end_time": "2022-09-13T08:21:57.812537Z",
     "start_time": "2022-09-13T08:21:57.799911Z"
    }
   },
   "outputs": [],
   "source": []
  },
  {
   "cell_type": "code",
   "execution_count": null,
   "id": "0fe40409",
   "metadata": {
    "ExecuteTime": {
     "end_time": "2022-09-14T03:25:13.051269Z",
     "start_time": "2022-09-14T03:25:09.497284Z"
    }
   },
   "outputs": [],
   "source": []
  },
  {
   "cell_type": "code",
   "execution_count": null,
   "id": "e29f08f0",
   "metadata": {
    "ExecuteTime": {
     "end_time": "2022-09-14T03:28:22.499024Z",
     "start_time": "2022-09-14T03:28:22.480003Z"
    }
   },
   "outputs": [],
   "source": []
  },
  {
   "cell_type": "code",
   "execution_count": null,
   "id": "a9d53a16",
   "metadata": {},
   "outputs": [],
   "source": []
  }
 ],
 "metadata": {
  "kernelspec": {
   "display_name": "Python 3 (ipykernel)",
   "language": "python",
   "name": "python3"
  },
  "language_info": {
   "codemirror_mode": {
    "name": "ipython",
    "version": 3
   },
   "file_extension": ".py",
   "mimetype": "text/x-python",
   "name": "python",
   "nbconvert_exporter": "python",
   "pygments_lexer": "ipython3",
   "version": "3.9.12"
  },
  "toc": {
   "base_numbering": 1,
   "nav_menu": {},
   "number_sections": true,
   "sideBar": true,
   "skip_h1_title": false,
   "title_cell": "Table of Contents",
   "title_sidebar": "Contents",
   "toc_cell": false,
   "toc_position": {},
   "toc_section_display": true,
   "toc_window_display": false
  },
  "varInspector": {
   "cols": {
    "lenName": 16,
    "lenType": 16,
    "lenVar": 40
   },
   "kernels_config": {
    "python": {
     "delete_cmd_postfix": "",
     "delete_cmd_prefix": "del ",
     "library": "var_list.py",
     "varRefreshCmd": "print(var_dic_list())"
    },
    "r": {
     "delete_cmd_postfix": ") ",
     "delete_cmd_prefix": "rm(",
     "library": "var_list.r",
     "varRefreshCmd": "cat(var_dic_list()) "
    }
   },
   "types_to_exclude": [
    "module",
    "function",
    "builtin_function_or_method",
    "instance",
    "_Feature"
   ],
   "window_display": false
  }
 },
 "nbformat": 4,
 "nbformat_minor": 5
}
