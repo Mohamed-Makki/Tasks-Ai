{
 "cells": [
  {
   "cell_type": "code",
   "execution_count": 1,
   "id": "bde82a2a",
   "metadata": {
    "ExecuteTime": {
     "end_time": "2022-09-03T04:16:06.931557Z",
     "start_time": "2022-09-03T04:16:06.910980Z"
    }
   },
   "outputs": [
    {
     "name": "stdout",
     "output_type": "stream",
     "text": [
      "[' Mohamed Makki ', ' Ahmed Ramy ', ' Ayman Eid ']\n"
     ]
    }
   ],
   "source": [
    "import task\n",
    "m=task.employ\n",
    "import re\n",
    "name= re.compile(\"\\s[a-zA-z]+\\s[a-zA-Z]+\\s\")\n",
    "matchs=name.finditer(m)\n",
    "lis=[]\n",
    "for i in matchs:\n",
    "    lis.append(m[i.span()[0]:i.span()[1]])\n",
    "print(lis)"
   ]
  },
  {
   "cell_type": "code",
   "execution_count": 2,
   "id": "c1e7a633",
   "metadata": {
    "ExecuteTime": {
     "end_time": "2022-09-03T04:16:27.926869Z",
     "start_time": "2022-09-03T04:16:27.908771Z"
    }
   },
   "outputs": [
    {
     "name": "stdout",
     "output_type": "stream",
     "text": [
      "[' 01062872640 ', ' 01062315420 ', ' 010655211475 ']\n"
     ]
    }
   ],
   "source": [
    "number=re.compile(\"\\s[\\d]+\\s\")\n",
    "matchs=number.finditer(m)\n",
    "num=[]\n",
    "for i in matchs:\n",
    "    num.append(m[i.span()[0]:i.span()[1]])\n",
    "print(num) "
   ]
  },
  {
   "cell_type": "code",
   "execution_count": 3,
   "id": "2769330d",
   "metadata": {
    "ExecuteTime": {
     "end_time": "2022-09-03T04:16:31.999532Z",
     "start_time": "2022-09-03T04:16:31.987014Z"
    }
   },
   "outputs": [
    {
     "name": "stdout",
     "output_type": "stream",
     "text": [
      "[' blackwhite191919@gmail.com', ' Ramy112001@gmail.com', ' Ayman251940@gmail.com']\n"
     ]
    }
   ],
   "source": [
    "email=re.compile(\"\\s[\\w]+@[\\w]+\\.(com)\")\n",
    "matchs=email.finditer(m)\n",
    "ema=[]\n",
    "for i in matchs:\n",
    "    ema.append(m[i.span()[0]:i.span()[1]])\n",
    "print(ema)"
   ]
  },
  {
   "cell_type": "code",
   "execution_count": null,
   "id": "3aa0ce73",
   "metadata": {},
   "outputs": [],
   "source": []
  }
 ],
 "metadata": {
  "kernelspec": {
   "display_name": "Python 3 (ipykernel)",
   "language": "python",
   "name": "python3"
  },
  "language_info": {
   "codemirror_mode": {
    "name": "ipython",
    "version": 3
   },
   "file_extension": ".py",
   "mimetype": "text/x-python",
   "name": "python",
   "nbconvert_exporter": "python",
   "pygments_lexer": "ipython3",
   "version": "3.9.12"
  },
  "toc": {
   "base_numbering": 1,
   "nav_menu": {},
   "number_sections": true,
   "sideBar": true,
   "skip_h1_title": false,
   "title_cell": "Table of Contents",
   "title_sidebar": "Contents",
   "toc_cell": false,
   "toc_position": {},
   "toc_section_display": true,
   "toc_window_display": false
  },
  "varInspector": {
   "cols": {
    "lenName": 16,
    "lenType": 16,
    "lenVar": 40
   },
   "kernels_config": {
    "python": {
     "delete_cmd_postfix": "",
     "delete_cmd_prefix": "del ",
     "library": "var_list.py",
     "varRefreshCmd": "print(var_dic_list())"
    },
    "r": {
     "delete_cmd_postfix": ") ",
     "delete_cmd_prefix": "rm(",
     "library": "var_list.r",
     "varRefreshCmd": "cat(var_dic_list()) "
    }
   },
   "types_to_exclude": [
    "module",
    "function",
    "builtin_function_or_method",
    "instance",
    "_Feature"
   ],
   "window_display": false
  }
 },
 "nbformat": 4,
 "nbformat_minor": 5
}
