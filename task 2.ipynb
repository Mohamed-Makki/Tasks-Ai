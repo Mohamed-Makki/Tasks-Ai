{
 "cells": [
  {
   "cell_type": "code",
   "execution_count": 3,
   "id": "d05ddfd3",
   "metadata": {
    "ExecuteTime": {
     "end_time": "2022-08-07T09:45:12.616130Z",
     "start_time": "2022-08-07T09:45:12.598876Z"
    }
   },
   "outputs": [
    {
     "name": "stdout",
     "output_type": "stream",
     "text": [
      "1505\n",
      "1540\n",
      "1575\n",
      "1610\n",
      "1645\n",
      "1680\n",
      "1715\n",
      "1750\n",
      "1785\n",
      "1820\n",
      "1855\n",
      "1890\n",
      "1925\n",
      "1960\n",
      "1995\n",
      "2030\n",
      "2065\n",
      "2100\n",
      "2135\n",
      "2170\n",
      "2205\n",
      "2240\n",
      "2275\n",
      "2310\n",
      "2345\n",
      "2380\n",
      "2415\n",
      "2450\n",
      "2485\n",
      "2520\n",
      "2555\n",
      "2590\n",
      "2625\n",
      "2660\n",
      "2695\n"
     ]
    }
   ],
   "source": [
    "# 1 #\n",
    "for num in range(1500,2701):\n",
    "    if num%7==0 and num%5==0:\n",
    "        print(num)"
   ]
  },
  {
   "cell_type": "code",
   "execution_count": 14,
   "id": "7eb2179c",
   "metadata": {
    "ExecuteTime": {
     "end_time": "2022-08-07T10:18:48.560163Z",
     "start_time": "2022-08-07T10:18:43.314348Z"
    }
   },
   "outputs": [
    {
     "name": "stdout",
     "output_type": "stream",
     "text": [
      "what kind of temperature: c\n",
      "enter the temperature: 4\n",
      "this is temperature (f) :4.355555555555555 \n"
     ]
    }
   ],
   "source": [
    "# 2 #\n",
    "x=input(\"what kind of temperature: \")\n",
    "value=int(input(\"enter the temperature: \"))\n",
    "if (x == \"c\"):\n",
    "    print(f\"this is temperature (f) :{value/5+32/9} \")\n",
    "else:\n",
    "    print(f\"this is temperature (c) :{(value-32/9)*5} \")"
   ]
  },
  {
   "cell_type": "code",
   "execution_count": 5,
   "id": "f0f05a01",
   "metadata": {
    "ExecuteTime": {
     "end_time": "2022-08-08T15:02:20.369014Z",
     "start_time": "2022-08-08T15:02:20.358830Z"
    }
   },
   "outputs": [
    {
     "name": "stdout",
     "output_type": "stream",
     "text": [
      "*\n",
      "**\n",
      "***\n",
      "****\n",
      "*****\n",
      "******\n",
      "*****\n",
      "****\n",
      "***\n",
      "**\n",
      "*\n"
     ]
    }
   ],
   "source": [
    "# 3 #\n",
    "\n",
    "for i in range(1,7):\n",
    "      print(\"*\"*i)\n",
    "for n in range(5,0,-1):\n",
    "    print(\"*\"*n)\n",
    "            \n",
    "\n",
    "        "
   ]
  },
  {
   "cell_type": "code",
   "execution_count": 6,
   "id": "150086e5",
   "metadata": {
    "ExecuteTime": {
     "end_time": "2022-08-08T15:02:54.434567Z",
     "start_time": "2022-08-08T15:02:50.219017Z"
    }
   },
   "outputs": [
    {
     "name": "stdout",
     "output_type": "stream",
     "text": [
      "Enter the word: mohamed\n",
      "d\n",
      "e\n",
      "m\n",
      "a\n",
      "h\n",
      "o\n",
      "m\n"
     ]
    }
   ],
   "source": [
    "\n",
    "# 4 #\n",
    "name= input(\"Enter the word: \")\n",
    "for i in range(len(name)-1,-1,-1):\n",
    "    print (name[i])\n",
    "    "
   ]
  },
  {
   "cell_type": "code",
   "execution_count": 40,
   "id": "6f93e33a",
   "metadata": {
    "ExecuteTime": {
     "end_time": "2022-08-07T11:00:36.461641Z",
     "start_time": "2022-08-07T10:59:56.935101Z"
    }
   },
   "outputs": [
    {
     "name": "stdout",
     "output_type": "stream",
     "text": [
      "please enter first number: 3\n",
      "please enter second number: 4\n",
      "please enter third number: 5\n",
      "the third number: 5\n"
     ]
    }
   ],
   "source": [
    "# 5 #\n",
    "x=int(input(\"please enter first number: \"))\n",
    "y=int(input(\"please enter second number: \"))\n",
    "z=int(input(\"please enter third number: \"))\n",
    "if x>y and x>z:\n",
    "    print(f\"the first max number:{x}\")\n",
    "elif y>x and y>z:\n",
    "    print(f\"the second max number:{y}\")\n",
    "else:\n",
    "    print(f\"the third max number: {z}\")"
   ]
  },
  {
   "cell_type": "code",
   "execution_count": 62,
   "id": "2e1bad74",
   "metadata": {
    "ExecuteTime": {
     "end_time": "2022-08-07T11:28:19.372978Z",
     "start_time": "2022-08-07T11:28:19.356979Z"
    }
   },
   "outputs": [
    {
     "name": "stdout",
     "output_type": "stream",
     "text": [
      "45\n"
     ]
    }
   ],
   "source": [
    "# 6 #\n",
    "def sum (number):\n",
    "    total=0\n",
    "    for i in number :\n",
    "        total+=i\n",
    "    return total\n",
    "print(sum([1,2,3,4,5,6,7,8,9]))"
   ]
  },
  {
   "cell_type": "code",
   "execution_count": 63,
   "id": "84b763f0",
   "metadata": {
    "ExecuteTime": {
     "end_time": "2022-08-07T11:30:37.248795Z",
     "start_time": "2022-08-07T11:30:37.235332Z"
    }
   },
   "outputs": [
    {
     "name": "stdout",
     "output_type": "stream",
     "text": [
      "0\n",
      "1\n",
      "2\n",
      "4\n",
      "5\n"
     ]
    }
   ],
   "source": [
    "# 7 #\n",
    "for j in range(0, 6+1):\n",
    "    if j != 3 and j != 6:\n",
    "        print(j)\n",
    "    else:\n",
    "        continue\n",
    "        "
   ]
  },
  {
   "cell_type": "code",
   "execution_count": null,
   "id": "a64c0c4f",
   "metadata": {
    "ExecuteTime": {
     "start_time": "2022-08-07T11:32:05.694Z"
    }
   },
   "outputs": [],
   "source": [
    "# 8 #\n",
    "def fun(i):\n",
    "  if i==0:\n",
    "    return 1\n",
    "  else:\n",
    "    return i * fact(i-1)\n",
    "i=int(input(\"Enter number:\"))\n",
    "print(fun(i))"
   ]
  },
  {
   "cell_type": "code",
   "execution_count": null,
   "id": "7e0e3aff",
   "metadata": {},
   "outputs": [],
   "source": [
    "# 9 #\n",
    "def fun (l):\n",
    "    u = []\n",
    "    for j in l:\n",
    "        if j not in u:\n",
    "            u.append(j)\n",
    "    return u\n",
    "print(fun([1,45,76,21,88]))"
   ]
  },
  {
   "cell_type": "code",
   "execution_count": null,
   "id": "b96c7080",
   "metadata": {
    "ExecuteTime": {
     "start_time": "2022-08-07T11:37:50.240Z"
    }
   },
   "outputs": [],
   "source": [
    "# 10 #\n",
    "x=lambda n: n + 15\n",
    "print(m(5))\n",
    "x=lambda f, y : f * y\n",
    "print(m(10, 2))"
   ]
  },
  {
   "cell_type": "code",
   "execution_count": 1,
   "id": "18e37325",
   "metadata": {
    "ExecuteTime": {
     "end_time": "2022-08-09T16:16:32.132064Z",
     "start_time": "2022-08-09T16:16:32.116069Z"
    }
   },
   "outputs": [
    {
     "ename": "SyntaxError",
     "evalue": "invalid syntax (620967755.py, line 7)",
     "output_type": "error",
     "traceback": [
      "\u001b[1;36m  Input \u001b[1;32mIn [1]\u001b[1;36m\u001b[0m\n\u001b[1;33m    return world[0] += fun(world[1:])\u001b[0m\n\u001b[1;37m                    ^\u001b[0m\n\u001b[1;31mSyntaxError\u001b[0m\u001b[1;31m:\u001b[0m invalid syntax\n"
     ]
    }
   ],
   "source": [
    "name = \"mmmmoooohhhhhaaammmeeeddd\"\n",
    "def fun(world):\n",
    "    if len(world)==1:\n",
    "        return world\n",
    "    if world[0]==world[1]:\n",
    "        return fun(world[1:])\n",
    "    return world[0] + fun(world[1:])\n",
    "print(fun(name))\n"
   ]
  },
  {
   "cell_type": "code",
   "execution_count": null,
   "id": "4ebccaca",
   "metadata": {},
   "outputs": [],
   "source": []
  },
  {
   "cell_type": "code",
   "execution_count": null,
   "id": "9aa905d0",
   "metadata": {},
   "outputs": [],
   "source": []
  },
  {
   "cell_type": "code",
   "execution_count": null,
   "id": "1c794450",
   "metadata": {},
   "outputs": [],
   "source": []
  },
  {
   "cell_type": "code",
   "execution_count": null,
   "id": "87a40fec",
   "metadata": {},
   "outputs": [],
   "source": []
  },
  {
   "cell_type": "code",
   "execution_count": null,
   "id": "97ba6d66",
   "metadata": {},
   "outputs": [],
   "source": []
  },
  {
   "cell_type": "code",
   "execution_count": null,
   "id": "c80dc324",
   "metadata": {},
   "outputs": [],
   "source": []
  }
 ],
 "metadata": {
  "kernelspec": {
   "display_name": "Python 3 (ipykernel)",
   "language": "python",
   "name": "python3"
  },
  "language_info": {
   "codemirror_mode": {
    "name": "ipython",
    "version": 3
   },
   "file_extension": ".py",
   "mimetype": "text/x-python",
   "name": "python",
   "nbconvert_exporter": "python",
   "pygments_lexer": "ipython3",
   "version": "3.9.12"
  },
  "toc": {
   "base_numbering": 1,
   "nav_menu": {},
   "number_sections": true,
   "sideBar": true,
   "skip_h1_title": false,
   "title_cell": "Table of Contents",
   "title_sidebar": "Contents",
   "toc_cell": false,
   "toc_position": {},
   "toc_section_display": true,
   "toc_window_display": false
  },
  "varInspector": {
   "cols": {
    "lenName": 16,
    "lenType": 16,
    "lenVar": 40
   },
   "kernels_config": {
    "python": {
     "delete_cmd_postfix": "",
     "delete_cmd_prefix": "del ",
     "library": "var_list.py",
     "varRefreshCmd": "print(var_dic_list())"
    },
    "r": {
     "delete_cmd_postfix": ") ",
     "delete_cmd_prefix": "rm(",
     "library": "var_list.r",
     "varRefreshCmd": "cat(var_dic_list()) "
    }
   },
   "types_to_exclude": [
    "module",
    "function",
    "builtin_function_or_method",
    "instance",
    "_Feature"
   ],
   "window_display": false
  }
 },
 "nbformat": 4,
 "nbformat_minor": 5
}
