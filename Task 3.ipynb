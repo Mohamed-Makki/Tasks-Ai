{
 "cells": [
  {
   "cell_type": "code",
   "execution_count": 1,
   "id": "27abb10f",
   "metadata": {
    "ExecuteTime": {
     "end_time": "2022-08-09T16:31:07.593474Z",
     "start_time": "2022-08-09T16:31:07.585474Z"
    }
   },
   "outputs": [
    {
     "name": "stdout",
     "output_type": "stream",
     "text": [
      "mohamed\n"
     ]
    }
   ],
   "source": [
    "# function recursion #\n",
    "name = \"mmmooohhhhaaaammmeeddd\"\n",
    "def fun(x):\n",
    "    if len(x)==1:\n",
    "        return x\n",
    "    if x[0]==x[1]:\n",
    "        return fun(x[1:])\n",
    "    return x[0] + fun(x[1:])\n",
    "print(fun(name))"
   ]
  },
  {
   "cell_type": "code",
   "execution_count": 33,
   "id": "44258290",
   "metadata": {
    "ExecuteTime": {
     "end_time": "2022-08-09T17:30:01.859553Z",
     "start_time": "2022-08-09T17:30:01.826221Z"
    }
   },
   "outputs": [
    {
     "name": "stdout",
     "output_type": "stream",
     "text": [
      "m\n",
      "o\n",
      "h\n",
      "a\n",
      "m\n",
      "e\n",
      "d\n"
     ]
    },
    {
     "ename": "StopIteration",
     "evalue": "",
     "output_type": "error",
     "traceback": [
      "\u001b[1;31m---------------------------------------------------------------------------\u001b[0m",
      "\u001b[1;31mStopIteration\u001b[0m                             Traceback (most recent call last)",
      "Input \u001b[1;32mIn [33]\u001b[0m, in \u001b[0;36m<cell line: 12>\u001b[1;34m()\u001b[0m\n\u001b[0;32m     10\u001b[0m         \u001b[38;5;28;01mwhile\u001b[39;00m i\u001b[38;5;241m<\u001b[39m\u001b[38;5;241m=\u001b[39m\u001b[38;5;28mlen\u001b[39m(x):\n\u001b[0;32m     11\u001b[0m             \u001b[38;5;28mprint\u001b[39m(\u001b[38;5;28mnext\u001b[39m(myiter))\n\u001b[1;32m---> 12\u001b[0m \u001b[38;5;28mprint\u001b[39m(\u001b[43mfun\u001b[49m\u001b[43m(\u001b[49m\u001b[43mword\u001b[49m\u001b[43m)\u001b[49m)\n",
      "Input \u001b[1;32mIn [33]\u001b[0m, in \u001b[0;36mfun\u001b[1;34m(x)\u001b[0m\n\u001b[0;32m      9\u001b[0m myiter\u001b[38;5;241m=\u001b[39m\u001b[38;5;28miter\u001b[39m(x)\n\u001b[0;32m     10\u001b[0m \u001b[38;5;28;01mwhile\u001b[39;00m i\u001b[38;5;241m<\u001b[39m\u001b[38;5;241m=\u001b[39m\u001b[38;5;28mlen\u001b[39m(x):\n\u001b[1;32m---> 11\u001b[0m     \u001b[38;5;28mprint\u001b[39m(\u001b[38;5;28;43mnext\u001b[39;49m\u001b[43m(\u001b[49m\u001b[43mmyiter\u001b[49m\u001b[43m)\u001b[49m)\n",
      "\u001b[1;31mStopIteration\u001b[0m: "
     ]
    }
   ],
   "source": [
    "# iterative #\n",
    "# object used to iterate over iterable using next mothod return 1 element at a time #\n",
    "word = \"mohamed\"\n",
    "def fun(x):\n",
    "    if type(x)==int and type(x)==float and type(x)== bool:\n",
    "        return \" this is ont a iterable\"\n",
    "    else:\n",
    "        i=1\n",
    "        myiter=iter(x)\n",
    "        while i<=len(x):\n",
    "            print(next(myiter))\n",
    "print(fun(word))"
   ]
  },
  {
   "cell_type": "code",
   "execution_count": 46,
   "id": "04757456",
   "metadata": {
    "ExecuteTime": {
     "end_time": "2022-08-09T19:17:09.429613Z",
     "start_time": "2022-08-09T19:17:09.406388Z"
    }
   },
   "outputs": [
    {
     "name": "stdout",
     "output_type": "stream",
     "text": [
      "6\n"
     ]
    }
   ],
   "source": [
    "   def binarysearch(x,item):\n",
    "        firstindex = 0\n",
    "        lastindex = len(x)-1\n",
    "        while firstindex <= lastindex:\n",
    "            midd = firstindex + (lastindex-firstindex) // 2\n",
    "            middvalue = x[midd]\n",
    "            if middvalue == item:\n",
    "                return midd\n",
    "            elif item < middvalue:\n",
    "                lastindex = midd-1\n",
    "            else :\n",
    "                firstindex = midd +1\n",
    "        return None\n",
    "numbers=[1,2,3,4,5,6,7,8,9]\n",
    "num=7\n",
    "print(binarysearch(numbers,num))"
   ]
  },
  {
   "cell_type": "code",
   "execution_count": null,
   "id": "f77b365f",
   "metadata": {},
   "outputs": [],
   "source": []
  },
  {
   "cell_type": "code",
   "execution_count": null,
   "id": "40e80b12",
   "metadata": {},
   "outputs": [],
   "source": []
  }
 ],
 "metadata": {
  "kernelspec": {
   "display_name": "Python 3 (ipykernel)",
   "language": "python",
   "name": "python3"
  },
  "language_info": {
   "codemirror_mode": {
    "name": "ipython",
    "version": 3
   },
   "file_extension": ".py",
   "mimetype": "text/x-python",
   "name": "python",
   "nbconvert_exporter": "python",
   "pygments_lexer": "ipython3",
   "version": "3.9.12"
  },
  "toc": {
   "base_numbering": 1,
   "nav_menu": {},
   "number_sections": true,
   "sideBar": true,
   "skip_h1_title": false,
   "title_cell": "Table of Contents",
   "title_sidebar": "Contents",
   "toc_cell": false,
   "toc_position": {},
   "toc_section_display": true,
   "toc_window_display": false
  },
  "varInspector": {
   "cols": {
    "lenName": 16,
    "lenType": 16,
    "lenVar": 40
   },
   "kernels_config": {
    "python": {
     "delete_cmd_postfix": "",
     "delete_cmd_prefix": "del ",
     "library": "var_list.py",
     "varRefreshCmd": "print(var_dic_list())"
    },
    "r": {
     "delete_cmd_postfix": ") ",
     "delete_cmd_prefix": "rm(",
     "library": "var_list.r",
     "varRefreshCmd": "cat(var_dic_list()) "
    }
   },
   "types_to_exclude": [
    "module",
    "function",
    "builtin_function_or_method",
    "instance",
    "_Feature"
   ],
   "window_display": false
  }
 },
 "nbformat": 4,
 "nbformat_minor": 5
}
