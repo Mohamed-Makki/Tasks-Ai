{
 "cells": [
  {
   "cell_type": "code",
   "execution_count": 2,
   "id": "adad6c15",
   "metadata": {
    "ExecuteTime": {
     "end_time": "2022-08-21T04:30:19.355780Z",
     "start_time": "2022-08-21T04:29:59.840215Z"
    }
   },
   "outputs": [
    {
     "name": "stdout",
     "output_type": "stream",
     "text": [
      "please enter model: marcedec\n",
      "please enter your need color: black\n"
     ]
    },
    {
     "ename": "AttributeError",
     "evalue": "'colorcar' object has no attribute 'model'",
     "output_type": "error",
     "traceback": [
      "\u001b[1;31m---------------------------------------------------------------------------\u001b[0m",
      "\u001b[1;31mAttributeError\u001b[0m                            Traceback (most recent call last)",
      "Input \u001b[1;32mIn [2]\u001b[0m, in \u001b[0;36m<cell line: 14>\u001b[1;34m()\u001b[0m\n\u001b[0;32m     12\u001b[0m         \u001b[38;5;28mself\u001b[39m\u001b[38;5;241m.\u001b[39m_colorname\u001b[38;5;241m=\u001b[39m\u001b[38;5;28minput\u001b[39m(\u001b[38;5;124m'\u001b[39m\u001b[38;5;124mplease enter your need color: \u001b[39m\u001b[38;5;124m'\u001b[39m)\n\u001b[0;32m     13\u001b[0m one\u001b[38;5;241m=\u001b[39mcolorcar()\n\u001b[1;32m---> 14\u001b[0m \u001b[43mone\u001b[49m\u001b[38;5;241;43m.\u001b[39;49m\u001b[43mmodel\u001b[49m\n",
      "\u001b[1;31mAttributeError\u001b[0m: 'colorcar' object has no attribute 'model'"
     ]
    }
   ],
   "source": [
    "# 1-Although the protected variable can be accessed out of the class as well as in the derived class\n",
    "#(modified too in derived class),\n",
    "#it is customary(convention not a rule) to not access the protected out the class body.\n",
    "class car:\n",
    "    def __init__(self):\n",
    "        self._name=input(\"please enter model: \")\n",
    "        self._model=self._name\n",
    "        \n",
    "class colorcar(car):\n",
    "    def __init__(self,):\n",
    "        super(). __init__()\n",
    "        self._colorname=input('please enter your need color: ')\n",
    "one=colorcar()\n",
    "one.model"
   ]
  },
  {
   "cell_type": "code",
   "execution_count": 3,
   "id": "69ea798a",
   "metadata": {
    "ExecuteTime": {
     "end_time": "2022-08-21T04:32:18.143371Z",
     "start_time": "2022-08-21T04:32:18.120073Z"
    }
   },
   "outputs": [
    {
     "data": {
      "text/plain": [
       "'marcedec'"
      ]
     },
     "execution_count": 3,
     "metadata": {},
     "output_type": "execute_result"
    }
   ],
   "source": [
    "# لكن لما اكتبها ب(_) بتتاكسس معايا عادي\n",
    "one._model"
   ]
  },
  {
   "cell_type": "code",
   "execution_count": 3,
   "id": "49af92e0",
   "metadata": {
    "ExecuteTime": {
     "end_time": "2022-08-21T06:58:08.388492Z",
     "start_time": "2022-08-21T06:58:00.271173Z"
    }
   },
   "outputs": [
    {
     "name": "stdout",
     "output_type": "stream",
     "text": [
      "please enter your games: gta5\n",
      "please enter your passwoed: 123456\n",
      "start play Gta5\n"
     ]
    }
   ],
   "source": [
    "# 2 #\n",
    "class Games:\n",
    "    __gta5=123456\n",
    "    __maryo=112001\n",
    "    def __init__(self):\n",
    "        self.name=input(\"please enter your games: \")\n",
    "        self.id=int(input(\"please enter your passwoed: \"))\n",
    "\n",
    "    def fun(self):\n",
    "        if self.id==self.__gta5:\n",
    "            print(\"start play Gta5\")\n",
    "            \n",
    "        elif self.id==self.__maryo:\n",
    "             print(\"start paly maryo\")\n",
    "            \n",
    "        else:\n",
    "             print(\"error password\")\n",
    "        \n",
    "\n",
    "class Play(Games):\n",
    "    def __init__(self):\n",
    "        super().__init__()\n",
    "w=Play()\n",
    "w.fun()\n",
    "\n",
    "\n",
    "\n",
    "\n"
   ]
  },
  {
   "cell_type": "code",
   "execution_count": null,
   "id": "6fd0a9c6",
   "metadata": {
    "ExecuteTime": {
     "start_time": "2022-08-21T06:24:31.649Z"
    }
   },
   "outputs": [],
   "source": []
  },
  {
   "cell_type": "code",
   "execution_count": null,
   "id": "9682e41e",
   "metadata": {
    "ExecuteTime": {
     "start_time": "2022-08-21T06:24:23.111Z"
    }
   },
   "outputs": [],
   "source": []
  },
  {
   "cell_type": "code",
   "execution_count": null,
   "id": "4d644b19",
   "metadata": {},
   "outputs": [],
   "source": []
  }
 ],
 "metadata": {
  "kernelspec": {
   "display_name": "Python 3 (ipykernel)",
   "language": "python",
   "name": "python3"
  },
  "language_info": {
   "codemirror_mode": {
    "name": "ipython",
    "version": 3
   },
   "file_extension": ".py",
   "mimetype": "text/x-python",
   "name": "python",
   "nbconvert_exporter": "python",
   "pygments_lexer": "ipython3",
   "version": "3.9.12"
  },
  "toc": {
   "base_numbering": 1,
   "nav_menu": {},
   "number_sections": true,
   "sideBar": true,
   "skip_h1_title": false,
   "title_cell": "Table of Contents",
   "title_sidebar": "Contents",
   "toc_cell": false,
   "toc_position": {},
   "toc_section_display": true,
   "toc_window_display": false
  },
  "varInspector": {
   "cols": {
    "lenName": 16,
    "lenType": 16,
    "lenVar": 40
   },
   "kernels_config": {
    "python": {
     "delete_cmd_postfix": "",
     "delete_cmd_prefix": "del ",
     "library": "var_list.py",
     "varRefreshCmd": "print(var_dic_list())"
    },
    "r": {
     "delete_cmd_postfix": ") ",
     "delete_cmd_prefix": "rm(",
     "library": "var_list.r",
     "varRefreshCmd": "cat(var_dic_list()) "
    }
   },
   "types_to_exclude": [
    "module",
    "function",
    "builtin_function_or_method",
    "instance",
    "_Feature"
   ],
   "window_display": false
  }
 },
 "nbformat": 4,
 "nbformat_minor": 5
}
