{
 "cells": [
  {
   "cell_type": "code",
   "execution_count": null,
   "id": "51a73c7e",
   "metadata": {},
   "outputs": [],
   "source": [
    "# What is an architectural pattern?\n",
    "#An architectural pattern can be called an outline that allows you to express and define a structural\n",
    "#schema for all kinds of software systems.\n",
    "#It’s a reusable solution that provides a predefined set of subsystems, roles, and responsibilities,\n",
    "#including the rules and roadmap for defining relationships among them.\n",
    "#It helps you address various software engineering concerns such as performance limitations,\n",
    "#high availability, minimizing business risk, etc.\n",
    "\n",
    "# Different types of software architecture pattern#\n",
    "\n",
    "#1. Layered Architecture Pattern\n",
    "#You’ve probably heard of multi-layered, aka tiered architecture, or n-tier architecture.\n",
    "#This architecture has gained popularity amongst designers and software architects alike\n",
    "#for its commonalities with the conventional arrangements of IT communications in many startups\n",
    "#and established enterprises. Often, a layered architecture is classified into four distinct \n",
    "#layers: presentation, business, persistence, and database; however, the pattern is not confined to\n",
    "#the specified layers and there can be an application layer or service layer or data access layer.\n",
    "#Popular frameworks like Java EE utilized this architecture pattern.\n",
    "#Usage:\n",
    "\n",
    "#Applications that are needed to be built quickly.\n",
    "#Enterprise applications that require traditional IT departments and processes.\n",
    "#Appropriate for teams with inexperienced developers and limited knowledge of architecture patterns. \n",
    "#Applications that require strict standards of maintainability and testability.\n",
    "\n",
    "#2. Event-driven Architecture Pattern\n",
    "#If you are looking for an architecture pattern that is agile and highly performant,\n",
    "#then you should opt for an event-driven architecture pattern. It is made up of decoupled,\n",
    "#single-purpose event processing components that asynchronously receive and process events.\n",
    "#This pattern orchestrates the behavior around the production, detection, and consumption of\n",
    "#all the events,along with the responses they evoke.\n",
    "#Usage:\n",
    "\n",
    "#For applications where individual data blocks interact with only a few modules.\n",
    "#Helps with user interfaces.\n",
    "\n",
    "#3. Microkernel Architecture Pattern\n",
    "#This architecture pattern consists of two types of components – a core system and\n",
    "#several plug-in modules. While the core system works on minimal functionality to keep\n",
    "#the system operational, the plug-in modules are independent components with specialized processing.\n",
    "#Usage:\n",
    "\n",
    "#Applications that have a clear segmentation between basic routines and higher-order rules.\n",
    "#Applications that have a fixed set of core routines and dynamic set of rule that needs frequent updates.\n",
    "\n",
    "#4. Microservices Architecture Pattern\n",
    "#Microservices architecture pattern is seen as a viable alternative to monolithic applications and\n",
    "#service-oriented architectures. The components are deployed as separate units through an effective,\n",
    "#streamlined delivery pipeline. The pattern’s benefits are enhanced scalability and a high degree of\n",
    "#decoupling within the application.\n",
    "\n",
    "\n",
    "#What Is a Cron Job?\n",
    "#Cron is a utility program that lets users input commands for scheduling tasks repeatedly at a specific time.\n",
    "#Tasks scheduled in cron are called cron jobs. Users can determine what kind of task they want to automate and\n",
    "#when it should be executed.\n",
    "\n",
    "#Cron is a daemon – a background process executing non-interactive jobs. In Windows, you might be familiar with\n",
    "#background processes such as Services that work similarly to the cron daemon.\n",
    "\n",
    "#A daemon is always idle, waiting for a command to request it to perform a particular task.\n",
    "#The command can be input on any computer on the network.\n",
    "\n",
    "#A cron file is a simple text file that contains commands to run periodically at a specific time.\n",
    "#The default system cron table or crontab configuration file is /etc/crontab, located within the crontab directory /etc/cron.*/.\n",
    "\n",
    "#Only system administrators can edit the system crontab file. However, Unix-like operating systems support multiple admins.\n",
    "#Each can create a crontab file and write commands to perform jobs anytime they want.\n",
    "\n"
   ]
  }
 ],
 "metadata": {
  "kernelspec": {
   "display_name": "Python 3 (ipykernel)",
   "language": "python",
   "name": "python3"
  },
  "language_info": {
   "codemirror_mode": {
    "name": "ipython",
    "version": 3
   },
   "file_extension": ".py",
   "mimetype": "text/x-python",
   "name": "python",
   "nbconvert_exporter": "python",
   "pygments_lexer": "ipython3",
   "version": "3.9.12"
  },
  "toc": {
   "base_numbering": 1,
   "nav_menu": {},
   "number_sections": true,
   "sideBar": true,
   "skip_h1_title": false,
   "title_cell": "Table of Contents",
   "title_sidebar": "Contents",
   "toc_cell": false,
   "toc_position": {},
   "toc_section_display": true,
   "toc_window_display": false
  },
  "varInspector": {
   "cols": {
    "lenName": 16,
    "lenType": 16,
    "lenVar": 40
   },
   "kernels_config": {
    "python": {
     "delete_cmd_postfix": "",
     "delete_cmd_prefix": "del ",
     "library": "var_list.py",
     "varRefreshCmd": "print(var_dic_list())"
    },
    "r": {
     "delete_cmd_postfix": ") ",
     "delete_cmd_prefix": "rm(",
     "library": "var_list.r",
     "varRefreshCmd": "cat(var_dic_list()) "
    }
   },
   "types_to_exclude": [
    "module",
    "function",
    "builtin_function_or_method",
    "instance",
    "_Feature"
   ],
   "window_display": false
  }
 },
 "nbformat": 4,
 "nbformat_minor": 5
}
